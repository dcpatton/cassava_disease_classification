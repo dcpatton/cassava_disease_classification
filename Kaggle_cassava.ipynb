{
  "nbformat": 4,
  "nbformat_minor": 0,
  "metadata": {
    "colab": {
      "name": "Kaggle cassava.ipynb",
      "provenance": [],
      "collapsed_sections": [],
      "authorship_tag": "ABX9TyMFkTp1BHh7mKP8dCkUdiYE",
      "include_colab_link": true
    },
    "kernelspec": {
      "name": "python3",
      "display_name": "Python 3"
    },
    "accelerator": "GPU"
  },
  "cells": [
    {
      "cell_type": "markdown",
      "metadata": {
        "id": "view-in-github",
        "colab_type": "text"
      },
      "source": [
        "<a href=\"https://colab.research.google.com/github/dcpatton/cassava_disease_classification/blob/master/Kaggle_cassava.ipynb\" target=\"_parent\"><img src=\"https://colab.research.google.com/assets/colab-badge.svg\" alt=\"Open In Colab\"/></a>"
      ]
    },
    {
      "cell_type": "markdown",
      "metadata": {
        "id": "tTltp4319Fas",
        "colab_type": "text"
      },
      "source": [
        "# Cassava Disease Classifcation\n",
        "\n",
        "\n",
        " https://arxiv.org/pdf/1908.02900.pdf"
      ]
    },
    {
      "cell_type": "code",
      "metadata": {
        "id": "UhmBurArWNqw",
        "colab_type": "code",
        "colab": {
          "base_uri": "https://localhost:8080/",
          "height": 52
        },
        "outputId": "caaf4f48-fcc7-4433-9b19-3c2c46de176a"
      },
      "source": [
        "import tensorflow as tf\n",
        "import tensorflow_hub as hub\n",
        "import random\n",
        "print(tf.__version__)\n",
        "print(hub.__version__)\n",
        "\n",
        "seed = 51\n",
        "tf.random.set_seed(seed)\n",
        "random.seed(seed)"
      ],
      "execution_count": 3,
      "outputs": [
        {
          "output_type": "stream",
          "text": [
            "2.2.0\n",
            "0.8.0\n"
          ],
          "name": "stdout"
        }
      ]
    },
    {
      "cell_type": "markdown",
      "metadata": {
        "id": "qJL_5Nue7bev",
        "colab_type": "text"
      },
      "source": [
        "# Upload Kaggle credentials"
      ]
    },
    {
      "cell_type": "code",
      "metadata": {
        "id": "LE40r4PCSZKV",
        "colab_type": "code",
        "colab": {
          "resources": {
            "http://localhost:8080/nbextensions/google.colab/files.js": {
              "data": "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",
              "ok": true,
              "headers": [
                [
                  "content-type",
                  "application/javascript"
                ]
              ],
              "status": 200,
              "status_text": ""
            }
          },
          "base_uri": "https://localhost:8080/",
          "height": 56
        },
        "outputId": "bf8e6ea9-b287-4084-b52f-505b0f114566"
      },
      "source": [
        "# upload the kaggle.json file from local computer\n",
        "from google.colab import files\n",
        "files.upload()"
      ],
      "execution_count": 31,
      "outputs": [
        {
          "output_type": "display_data",
          "data": {
            "text/html": [
              "\n",
              "     <input type=\"file\" id=\"files-f13c3a01-6f85-4b69-9a5f-0e262759b585\" name=\"files[]\" multiple disabled\n",
              "        style=\"border:none\" />\n",
              "     <output id=\"result-f13c3a01-6f85-4b69-9a5f-0e262759b585\">\n",
              "      Upload widget is only available when the cell has been executed in the\n",
              "      current browser session. Please rerun this cell to enable.\n",
              "      </output>\n",
              "      <script src=\"/nbextensions/google.colab/files.js\"></script> "
            ],
            "text/plain": [
              "<IPython.core.display.HTML object>"
            ]
          },
          "metadata": {
            "tags": []
          }
        },
        {
          "output_type": "execute_result",
          "data": {
            "text/plain": [
              "{}"
            ]
          },
          "metadata": {
            "tags": []
          },
          "execution_count": 31
        }
      ]
    },
    {
      "cell_type": "code",
      "metadata": {
        "id": "8Lv2Pd_DSoED",
        "colab_type": "code",
        "colab": {
          "base_uri": "https://localhost:8080/",
          "height": 212
        },
        "outputId": "2479724f-5e83-49d7-c7dc-ce877b79f0a4"
      },
      "source": [
        "!mkdir -p ~/.kaggle\n",
        "!cp kaggle.json ~/.kaggle/\n",
        "!pip install kaggle --upgrade"
      ],
      "execution_count": 5,
      "outputs": [
        {
          "output_type": "stream",
          "text": [
            "Requirement already up-to-date: kaggle in /usr/local/lib/python3.6/dist-packages (1.5.6)\n",
            "Requirement already satisfied, skipping upgrade: urllib3<1.25,>=1.21.1 in /usr/local/lib/python3.6/dist-packages (from kaggle) (1.24.3)\n",
            "Requirement already satisfied, skipping upgrade: certifi in /usr/local/lib/python3.6/dist-packages (from kaggle) (2020.6.20)\n",
            "Requirement already satisfied, skipping upgrade: python-dateutil in /usr/local/lib/python3.6/dist-packages (from kaggle) (2.8.1)\n",
            "Requirement already satisfied, skipping upgrade: python-slugify in /usr/local/lib/python3.6/dist-packages (from kaggle) (4.0.1)\n",
            "Requirement already satisfied, skipping upgrade: requests in /usr/local/lib/python3.6/dist-packages (from kaggle) (2.23.0)\n",
            "Requirement already satisfied, skipping upgrade: six>=1.10 in /usr/local/lib/python3.6/dist-packages (from kaggle) (1.15.0)\n",
            "Requirement already satisfied, skipping upgrade: tqdm in /usr/local/lib/python3.6/dist-packages (from kaggle) (4.41.1)\n",
            "Requirement already satisfied, skipping upgrade: text-unidecode>=1.3 in /usr/local/lib/python3.6/dist-packages (from python-slugify->kaggle) (1.3)\n",
            "Requirement already satisfied, skipping upgrade: idna<3,>=2.5 in /usr/local/lib/python3.6/dist-packages (from requests->kaggle) (2.10)\n",
            "Requirement already satisfied, skipping upgrade: chardet<4,>=3.0.2 in /usr/local/lib/python3.6/dist-packages (from requests->kaggle) (3.0.4)\n"
          ],
          "name": "stdout"
        }
      ]
    },
    {
      "cell_type": "code",
      "metadata": {
        "id": "1IQUBypIS0aY",
        "colab_type": "code",
        "colab": {
          "base_uri": "https://localhost:8080/",
          "height": 34
        },
        "outputId": "e22e935d-9868-4614-ade8-8acb6b3921c1"
      },
      "source": [
        "!ls -l /root/.kaggle/kaggle.json\n",
        "!chmod 600 /root/.kaggle/kaggle.json"
      ],
      "execution_count": 6,
      "outputs": [
        {
          "output_type": "stream",
          "text": [
            "-rw-r--r-- 1 root root 64 Jul 26 14:28 /root/.kaggle/kaggle.json\n"
          ],
          "name": "stdout"
        }
      ]
    },
    {
      "cell_type": "markdown",
      "metadata": {
        "id": "17M2EL6g9qB1",
        "colab_type": "text"
      },
      "source": [
        "# Download competition files from Kaggle"
      ]
    },
    {
      "cell_type": "code",
      "metadata": {
        "id": "Sh8PWrnpS-M3",
        "colab_type": "code",
        "colab": {
          "base_uri": "https://localhost:8080/",
          "height": 176
        },
        "outputId": "25207e7a-de18-4fb7-b98d-770bda776a23"
      },
      "source": [
        "!kaggle competitions download -c cassava-disease -f train.zip\n",
        "!kaggle competitions download -c cassava-disease -f test.zip\n",
        "!kaggle competitions download -c cassava-disease -f sample_submission_file.csv"
      ],
      "execution_count": 7,
      "outputs": [
        {
          "output_type": "stream",
          "text": [
            "Downloading train.zip to /content\n",
            "100% 773M/777M [00:10<00:00, 68.9MB/s]\n",
            "100% 777M/777M [00:10<00:00, 78.2MB/s]\n",
            "Downloading test.zip to /content\n",
            " 96% 494M/515M [00:04<00:00, 89.4MB/s]\n",
            "100% 515M/515M [00:04<00:00, 109MB/s] \n",
            "Downloading sample_submission_file.csv to /content\n",
            "  0% 0.00/83.8k [00:00<?, ?B/s]\n",
            "100% 83.8k/83.8k [00:00<00:00, 32.0MB/s]\n"
          ],
          "name": "stdout"
        }
      ]
    },
    {
      "cell_type": "code",
      "metadata": {
        "id": "LtEZwlInT_hW",
        "colab_type": "code",
        "colab": {}
      },
      "source": [
        "!unzip train.zip > /dev/null\n",
        "!unzip test.zip > /dev/null"
      ],
      "execution_count": 8,
      "outputs": []
    },
    {
      "cell_type": "markdown",
      "metadata": {
        "id": "mGk3pzJi91Oe",
        "colab_type": "text"
      },
      "source": [
        "# Prepare the training and validation data\n",
        "\n",
        "Note that 20% of the test data is used for validation"
      ]
    },
    {
      "cell_type": "code",
      "metadata": {
        "id": "JuZRCejLT-oe",
        "colab_type": "code",
        "colab": {
          "base_uri": "https://localhost:8080/",
          "height": 52
        },
        "outputId": "40de6000-6308-4105-d763-1e2dabd4e6aa"
      },
      "source": [
        "from tensorflow.keras.preprocessing.image import ImageDataGenerator\n",
        "\n",
        "imageDataGenerator = ImageDataGenerator(rescale=1/255.,\n",
        "                                        rotation_range=45,\n",
        "                                        horizontal_flip=True,\n",
        "                                        vertical_flip=True,\n",
        "                                        zoom_range=0.2,\n",
        "                                        shear_range=10,\n",
        "                                        validation_split=0.2,\n",
        "                                       )\n",
        "\n",
        "train_gen = imageDataGenerator.flow_from_directory('/content/train/', target_size=(380, 380), subset='training',\n",
        "                                                   class_mode='sparse', batch_size=32, shuffle=True)\n",
        "\n",
        "val_gen = imageDataGenerator.flow_from_directory('/content/train/', target_size=(380, 380), subset='validation',\n",
        "                                                  class_mode='sparse', batch_size=32, shuffle=False)"
      ],
      "execution_count": 22,
      "outputs": [
        {
          "output_type": "stream",
          "text": [
            "Found 4527 images belonging to 5 classes.\n",
            "Found 1129 images belonging to 5 classes.\n"
          ],
          "name": "stdout"
        }
      ]
    },
    {
      "cell_type": "code",
      "metadata": {
        "id": "eqEqTEla9LKv",
        "colab_type": "code",
        "colab": {}
      },
      "source": [
        "num_classes = 5"
      ],
      "execution_count": 10,
      "outputs": []
    },
    {
      "cell_type": "markdown",
      "metadata": {
        "id": "uncP4dA-970n",
        "colab_type": "text"
      },
      "source": [
        "# Define the model\n",
        "\n",
        "The model is based on EfficientNet B4"
      ]
    },
    {
      "cell_type": "code",
      "metadata": {
        "id": "T_XgShetg-PO",
        "colab_type": "code",
        "colab": {
          "base_uri": "https://localhost:8080/",
          "height": 712
        },
        "outputId": "40ef8e03-490a-4fe3-acb7-9fea963237a0"
      },
      "source": [
        "!pip install focal-loss\n",
        "from focal_loss import SparseCategoricalFocalLoss\n",
        "loss_func = SparseCategoricalFocalLoss(gamma=2, from_logits=False)"
      ],
      "execution_count": 23,
      "outputs": [
        {
          "output_type": "stream",
          "text": [
            "Requirement already satisfied: focal-loss in /usr/local/lib/python3.6/dist-packages (0.0.6)\n",
            "Requirement already satisfied: tensorflow>=2.2 in /usr/local/lib/python3.6/dist-packages (from focal-loss) (2.2.0)\n",
            "Requirement already satisfied: keras-preprocessing>=1.1.0 in /usr/local/lib/python3.6/dist-packages (from tensorflow>=2.2->focal-loss) (1.1.2)\n",
            "Requirement already satisfied: opt-einsum>=2.3.2 in /usr/local/lib/python3.6/dist-packages (from tensorflow>=2.2->focal-loss) (3.3.0)\n",
            "Requirement already satisfied: grpcio>=1.8.6 in /usr/local/lib/python3.6/dist-packages (from tensorflow>=2.2->focal-loss) (1.30.0)\n",
            "Requirement already satisfied: protobuf>=3.8.0 in /usr/local/lib/python3.6/dist-packages (from tensorflow>=2.2->focal-loss) (3.12.2)\n",
            "Requirement already satisfied: tensorboard<2.3.0,>=2.2.0 in /usr/local/lib/python3.6/dist-packages (from tensorflow>=2.2->focal-loss) (2.2.2)\n",
            "Requirement already satisfied: scipy==1.4.1; python_version >= \"3\" in /usr/local/lib/python3.6/dist-packages (from tensorflow>=2.2->focal-loss) (1.4.1)\n",
            "Requirement already satisfied: absl-py>=0.7.0 in /usr/local/lib/python3.6/dist-packages (from tensorflow>=2.2->focal-loss) (0.9.0)\n",
            "Requirement already satisfied: astunparse==1.6.3 in /usr/local/lib/python3.6/dist-packages (from tensorflow>=2.2->focal-loss) (1.6.3)\n",
            "Requirement already satisfied: numpy<2.0,>=1.16.0 in /usr/local/lib/python3.6/dist-packages (from tensorflow>=2.2->focal-loss) (1.18.5)\n",
            "Requirement already satisfied: h5py<2.11.0,>=2.10.0 in /usr/local/lib/python3.6/dist-packages (from tensorflow>=2.2->focal-loss) (2.10.0)\n",
            "Requirement already satisfied: google-pasta>=0.1.8 in /usr/local/lib/python3.6/dist-packages (from tensorflow>=2.2->focal-loss) (0.2.0)\n",
            "Requirement already satisfied: wheel>=0.26; python_version >= \"3\" in /usr/local/lib/python3.6/dist-packages (from tensorflow>=2.2->focal-loss) (0.34.2)\n",
            "Requirement already satisfied: gast==0.3.3 in /usr/local/lib/python3.6/dist-packages (from tensorflow>=2.2->focal-loss) (0.3.3)\n",
            "Requirement already satisfied: tensorflow-estimator<2.3.0,>=2.2.0 in /usr/local/lib/python3.6/dist-packages (from tensorflow>=2.2->focal-loss) (2.2.0)\n",
            "Requirement already satisfied: six>=1.12.0 in /usr/local/lib/python3.6/dist-packages (from tensorflow>=2.2->focal-loss) (1.15.0)\n",
            "Requirement already satisfied: termcolor>=1.1.0 in /usr/local/lib/python3.6/dist-packages (from tensorflow>=2.2->focal-loss) (1.1.0)\n",
            "Requirement already satisfied: wrapt>=1.11.1 in /usr/local/lib/python3.6/dist-packages (from tensorflow>=2.2->focal-loss) (1.12.1)\n",
            "Requirement already satisfied: setuptools in /usr/local/lib/python3.6/dist-packages (from protobuf>=3.8.0->tensorflow>=2.2->focal-loss) (49.1.0)\n",
            "Requirement already satisfied: requests<3,>=2.21.0 in /usr/local/lib/python3.6/dist-packages (from tensorboard<2.3.0,>=2.2.0->tensorflow>=2.2->focal-loss) (2.23.0)\n",
            "Requirement already satisfied: google-auth<2,>=1.6.3 in /usr/local/lib/python3.6/dist-packages (from tensorboard<2.3.0,>=2.2.0->tensorflow>=2.2->focal-loss) (1.17.2)\n",
            "Requirement already satisfied: google-auth-oauthlib<0.5,>=0.4.1 in /usr/local/lib/python3.6/dist-packages (from tensorboard<2.3.0,>=2.2.0->tensorflow>=2.2->focal-loss) (0.4.1)\n",
            "Requirement already satisfied: markdown>=2.6.8 in /usr/local/lib/python3.6/dist-packages (from tensorboard<2.3.0,>=2.2.0->tensorflow>=2.2->focal-loss) (3.2.2)\n",
            "Requirement already satisfied: werkzeug>=0.11.15 in /usr/local/lib/python3.6/dist-packages (from tensorboard<2.3.0,>=2.2.0->tensorflow>=2.2->focal-loss) (1.0.1)\n",
            "Requirement already satisfied: tensorboard-plugin-wit>=1.6.0 in /usr/local/lib/python3.6/dist-packages (from tensorboard<2.3.0,>=2.2.0->tensorflow>=2.2->focal-loss) (1.7.0)\n",
            "Requirement already satisfied: chardet<4,>=3.0.2 in /usr/local/lib/python3.6/dist-packages (from requests<3,>=2.21.0->tensorboard<2.3.0,>=2.2.0->tensorflow>=2.2->focal-loss) (3.0.4)\n",
            "Requirement already satisfied: certifi>=2017.4.17 in /usr/local/lib/python3.6/dist-packages (from requests<3,>=2.21.0->tensorboard<2.3.0,>=2.2.0->tensorflow>=2.2->focal-loss) (2020.6.20)\n",
            "Requirement already satisfied: urllib3!=1.25.0,!=1.25.1,<1.26,>=1.21.1 in /usr/local/lib/python3.6/dist-packages (from requests<3,>=2.21.0->tensorboard<2.3.0,>=2.2.0->tensorflow>=2.2->focal-loss) (1.24.3)\n",
            "Requirement already satisfied: idna<3,>=2.5 in /usr/local/lib/python3.6/dist-packages (from requests<3,>=2.21.0->tensorboard<2.3.0,>=2.2.0->tensorflow>=2.2->focal-loss) (2.10)\n",
            "Requirement already satisfied: pyasn1-modules>=0.2.1 in /usr/local/lib/python3.6/dist-packages (from google-auth<2,>=1.6.3->tensorboard<2.3.0,>=2.2.0->tensorflow>=2.2->focal-loss) (0.2.8)\n",
            "Requirement already satisfied: cachetools<5.0,>=2.0.0 in /usr/local/lib/python3.6/dist-packages (from google-auth<2,>=1.6.3->tensorboard<2.3.0,>=2.2.0->tensorflow>=2.2->focal-loss) (4.1.1)\n",
            "Requirement already satisfied: rsa<5,>=3.1.4; python_version >= \"3\" in /usr/local/lib/python3.6/dist-packages (from google-auth<2,>=1.6.3->tensorboard<2.3.0,>=2.2.0->tensorflow>=2.2->focal-loss) (4.6)\n",
            "Requirement already satisfied: requests-oauthlib>=0.7.0 in /usr/local/lib/python3.6/dist-packages (from google-auth-oauthlib<0.5,>=0.4.1->tensorboard<2.3.0,>=2.2.0->tensorflow>=2.2->focal-loss) (1.3.0)\n",
            "Requirement already satisfied: importlib-metadata; python_version < \"3.8\" in /usr/local/lib/python3.6/dist-packages (from markdown>=2.6.8->tensorboard<2.3.0,>=2.2.0->tensorflow>=2.2->focal-loss) (1.7.0)\n",
            "Requirement already satisfied: pyasn1<0.5.0,>=0.4.6 in /usr/local/lib/python3.6/dist-packages (from pyasn1-modules>=0.2.1->google-auth<2,>=1.6.3->tensorboard<2.3.0,>=2.2.0->tensorflow>=2.2->focal-loss) (0.4.8)\n",
            "Requirement already satisfied: oauthlib>=3.0.0 in /usr/local/lib/python3.6/dist-packages (from requests-oauthlib>=0.7.0->google-auth-oauthlib<0.5,>=0.4.1->tensorboard<2.3.0,>=2.2.0->tensorflow>=2.2->focal-loss) (3.1.0)\n",
            "Requirement already satisfied: zipp>=0.5 in /usr/local/lib/python3.6/dist-packages (from importlib-metadata; python_version < \"3.8\"->markdown>=2.6.8->tensorboard<2.3.0,>=2.2.0->tensorflow>=2.2->focal-loss) (3.1.0)\n"
          ],
          "name": "stdout"
        }
      ]
    },
    {
      "cell_type": "code",
      "metadata": {
        "id": "aI9RM2CruInw",
        "colab_type": "code",
        "colab": {
          "base_uri": "https://localhost:8080/",
          "height": 443
        },
        "outputId": "73c07fdb-ec95-4d0b-fc0e-21c20fff788f"
      },
      "source": [
        "from tensorflow.keras.layers import Dense, InputLayer, Dropout\n",
        "from tensorflow.keras.optimizers import Adam\n",
        "\n",
        "MODULE_HANDLE = \"https://tfhub.dev/tensorflow/efficientnet/b4/feature-vector/1\"\n",
        "\n",
        "IMAGE_SIZE = (380, 380)\n",
        "\n",
        "model = tf.keras.Sequential([\n",
        "    InputLayer(input_shape=IMAGE_SIZE + (3,)),\n",
        "    hub.KerasLayer(MODULE_HANDLE, trainable=False),\n",
        "    Dense(512, activation='relu'),\n",
        "    Dropout(0.33),\n",
        "    Dense(256, activation='relu'),\n",
        "    Dropout(0.33),\n",
        "    Dense(128, activation='relu'),\n",
        "    Dropout(0.33),\n",
        "    Dense(num_classes, activation='softmax')\n",
        "])\n",
        "\n",
        "model.compile(optimizer=Adam(), loss=loss_func, metrics=['acc'])\n",
        "# model.compile(optimizer=Adam(), loss='categorical_crossentropy', metrics=['acc'])\n",
        "\n",
        "model.summary()"
      ],
      "execution_count": 24,
      "outputs": [
        {
          "output_type": "stream",
          "text": [
            "Model: \"sequential_4\"\n",
            "_________________________________________________________________\n",
            "Layer (type)                 Output Shape              Param #   \n",
            "=================================================================\n",
            "keras_layer_4 (KerasLayer)   (None, 1792)              17673816  \n",
            "_________________________________________________________________\n",
            "dense_16 (Dense)             (None, 512)               918016    \n",
            "_________________________________________________________________\n",
            "dropout_12 (Dropout)         (None, 512)               0         \n",
            "_________________________________________________________________\n",
            "dense_17 (Dense)             (None, 256)               131328    \n",
            "_________________________________________________________________\n",
            "dropout_13 (Dropout)         (None, 256)               0         \n",
            "_________________________________________________________________\n",
            "dense_18 (Dense)             (None, 128)               32896     \n",
            "_________________________________________________________________\n",
            "dropout_14 (Dropout)         (None, 128)               0         \n",
            "_________________________________________________________________\n",
            "dense_19 (Dense)             (None, 5)                 645       \n",
            "=================================================================\n",
            "Total params: 18,756,701\n",
            "Trainable params: 1,082,885\n",
            "Non-trainable params: 17,673,816\n",
            "_________________________________________________________________\n"
          ],
          "name": "stdout"
        }
      ]
    },
    {
      "cell_type": "code",
      "metadata": {
        "id": "jkvO96Cgw8Af",
        "colab_type": "code",
        "colab": {
          "base_uri": "https://localhost:8080/",
          "height": 158
        },
        "outputId": "e2505c7c-0543-43c5-e240-29738159e445"
      },
      "source": [
        "for layer in model.layers:\n",
        "  print(layer.name + ':  ' + str(layer.trainable))"
      ],
      "execution_count": 17,
      "outputs": [
        {
          "output_type": "stream",
          "text": [
            "keras_layer_2:  False\n",
            "dense_8:  True\n",
            "dropout_6:  True\n",
            "dense_9:  True\n",
            "dropout_7:  True\n",
            "dense_10:  True\n",
            "dropout_8:  True\n",
            "dense_11:  True\n"
          ],
          "name": "stdout"
        }
      ]
    },
    {
      "cell_type": "markdown",
      "metadata": {
        "id": "Ur6E2llk-A6c",
        "colab_type": "text"
      },
      "source": [
        "# Train the model\n",
        "\n",
        "Recommended to use a GPU. Save the best weights in a checkpoint file for later use."
      ]
    },
    {
      "cell_type": "code",
      "metadata": {
        "id": "NuP1kPAtgYjo",
        "colab_type": "code",
        "colab": {
          "base_uri": "https://localhost:8080/",
          "height": 1000
        },
        "outputId": "ed53179e-a5ff-4bcf-b5d1-bc0cb3bc4267"
      },
      "source": [
        "from tensorflow.keras.callbacks import ModelCheckpoint\n",
        "checkpoint_filepath = 'model.h5'\n",
        "mc = tf.keras.callbacks.ModelCheckpoint(checkpoint_filepath, verbose=1, \n",
        "                                        save_weights_only=True, monitor='val_loss', \n",
        "                                        mode='auto', save_best_only=True)\n",
        "\n",
        "history = model.fit(train_gen, epochs=50, verbose=1, callbacks=[mc], validation_data=val_gen)"
      ],
      "execution_count": 25,
      "outputs": [
        {
          "output_type": "stream",
          "text": [
            "Epoch 1/50\n",
            "142/142 [==============================] - ETA: 0s - loss: 0.5844 - acc: 0.6037\n",
            "Epoch 00001: val_loss improved from inf to 0.41541, saving model to model.h5\n",
            "142/142 [==============================] - 212s 1s/step - loss: 0.5844 - acc: 0.6037 - val_loss: 0.4154 - val_acc: 0.7024\n",
            "Epoch 2/50\n",
            "142/142 [==============================] - ETA: 0s - loss: 0.4527 - acc: 0.6801\n",
            "Epoch 00002: val_loss improved from 0.41541 to 0.38975, saving model to model.h5\n",
            "142/142 [==============================] - 208s 1s/step - loss: 0.4527 - acc: 0.6801 - val_loss: 0.3897 - val_acc: 0.7068\n",
            "Epoch 3/50\n",
            "142/142 [==============================] - ETA: 0s - loss: 0.4175 - acc: 0.7027\n",
            "Epoch 00003: val_loss improved from 0.38975 to 0.35652, saving model to model.h5\n",
            "142/142 [==============================] - 205s 1s/step - loss: 0.4175 - acc: 0.7027 - val_loss: 0.3565 - val_acc: 0.7245\n",
            "Epoch 4/50\n",
            "142/142 [==============================] - ETA: 0s - loss: 0.3968 - acc: 0.7097\n",
            "Epoch 00004: val_loss improved from 0.35652 to 0.35429, saving model to model.h5\n",
            "142/142 [==============================] - 204s 1s/step - loss: 0.3968 - acc: 0.7097 - val_loss: 0.3543 - val_acc: 0.7307\n",
            "Epoch 5/50\n",
            "142/142 [==============================] - ETA: 0s - loss: 0.3838 - acc: 0.7237\n",
            "Epoch 00005: val_loss improved from 0.35429 to 0.32269, saving model to model.h5\n",
            "142/142 [==============================] - 201s 1s/step - loss: 0.3838 - acc: 0.7237 - val_loss: 0.3227 - val_acc: 0.7582\n",
            "Epoch 6/50\n",
            "142/142 [==============================] - ETA: 0s - loss: 0.3634 - acc: 0.7261\n",
            "Epoch 00006: val_loss improved from 0.32269 to 0.32236, saving model to model.h5\n",
            "142/142 [==============================] - 200s 1s/step - loss: 0.3634 - acc: 0.7261 - val_loss: 0.3224 - val_acc: 0.7529\n",
            "Epoch 7/50\n",
            "142/142 [==============================] - ETA: 0s - loss: 0.3518 - acc: 0.7400\n",
            "Epoch 00007: val_loss improved from 0.32236 to 0.31396, saving model to model.h5\n",
            "142/142 [==============================] - 201s 1s/step - loss: 0.3518 - acc: 0.7400 - val_loss: 0.3140 - val_acc: 0.7378\n",
            "Epoch 8/50\n",
            "142/142 [==============================] - ETA: 0s - loss: 0.3386 - acc: 0.7513\n",
            "Epoch 00008: val_loss improved from 0.31396 to 0.29956, saving model to model.h5\n",
            "142/142 [==============================] - 201s 1s/step - loss: 0.3386 - acc: 0.7513 - val_loss: 0.2996 - val_acc: 0.7653\n",
            "Epoch 9/50\n",
            "142/142 [==============================] - ETA: 0s - loss: 0.3404 - acc: 0.7444\n",
            "Epoch 00009: val_loss improved from 0.29956 to 0.28854, saving model to model.h5\n",
            "142/142 [==============================] - 201s 1s/step - loss: 0.3404 - acc: 0.7444 - val_loss: 0.2885 - val_acc: 0.7679\n",
            "Epoch 10/50\n",
            "142/142 [==============================] - ETA: 0s - loss: 0.3201 - acc: 0.7515\n",
            "Epoch 00010: val_loss improved from 0.28854 to 0.27193, saving model to model.h5\n",
            "142/142 [==============================] - 202s 1s/step - loss: 0.3201 - acc: 0.7515 - val_loss: 0.2719 - val_acc: 0.7768\n",
            "Epoch 11/50\n",
            "142/142 [==============================] - ETA: 0s - loss: 0.3239 - acc: 0.7526\n",
            "Epoch 00011: val_loss did not improve from 0.27193\n",
            "142/142 [==============================] - 205s 1s/step - loss: 0.3239 - acc: 0.7526 - val_loss: 0.3058 - val_acc: 0.7520\n",
            "Epoch 12/50\n",
            "142/142 [==============================] - ETA: 0s - loss: 0.3119 - acc: 0.7645\n",
            "Epoch 00012: val_loss did not improve from 0.27193\n",
            "142/142 [==============================] - 205s 1s/step - loss: 0.3119 - acc: 0.7645 - val_loss: 0.2850 - val_acc: 0.7733\n",
            "Epoch 13/50\n",
            "142/142 [==============================] - ETA: 0s - loss: 0.3050 - acc: 0.7681\n",
            "Epoch 00013: val_loss did not improve from 0.27193\n",
            "142/142 [==============================] - 202s 1s/step - loss: 0.3050 - acc: 0.7681 - val_loss: 0.3085 - val_acc: 0.7502\n",
            "Epoch 14/50\n",
            "142/142 [==============================] - ETA: 0s - loss: 0.3017 - acc: 0.7685\n",
            "Epoch 00014: val_loss did not improve from 0.27193\n",
            "142/142 [==============================] - 201s 1s/step - loss: 0.3017 - acc: 0.7685 - val_loss: 0.2882 - val_acc: 0.7706\n",
            "Epoch 15/50\n",
            "142/142 [==============================] - ETA: 0s - loss: 0.2948 - acc: 0.7716\n",
            "Epoch 00015: val_loss did not improve from 0.27193\n",
            "142/142 [==============================] - 204s 1s/step - loss: 0.2948 - acc: 0.7716 - val_loss: 0.2829 - val_acc: 0.7750\n",
            "Epoch 16/50\n",
            "142/142 [==============================] - ETA: 0s - loss: 0.2999 - acc: 0.7731\n",
            "Epoch 00016: val_loss did not improve from 0.27193\n",
            "142/142 [==============================] - 203s 1s/step - loss: 0.2999 - acc: 0.7731 - val_loss: 0.2892 - val_acc: 0.7715\n",
            "Epoch 17/50\n",
            "142/142 [==============================] - ETA: 0s - loss: 0.2875 - acc: 0.7778\n",
            "Epoch 00017: val_loss did not improve from 0.27193\n",
            "142/142 [==============================] - 203s 1s/step - loss: 0.2875 - acc: 0.7778 - val_loss: 0.2756 - val_acc: 0.7892\n",
            "Epoch 18/50\n",
            "142/142 [==============================] - ETA: 0s - loss: 0.2825 - acc: 0.7769\n",
            "Epoch 00018: val_loss did not improve from 0.27193\n",
            "142/142 [==============================] - 204s 1s/step - loss: 0.2825 - acc: 0.7769 - val_loss: 0.2812 - val_acc: 0.7803\n",
            "Epoch 19/50\n",
            "142/142 [==============================] - ETA: 0s - loss: 0.2710 - acc: 0.7855\n",
            "Epoch 00019: val_loss did not improve from 0.27193\n",
            "142/142 [==============================] - 204s 1s/step - loss: 0.2710 - acc: 0.7855 - val_loss: 0.2826 - val_acc: 0.7733\n",
            "Epoch 20/50\n",
            "142/142 [==============================] - ETA: 0s - loss: 0.2700 - acc: 0.7906\n",
            "Epoch 00020: val_loss did not improve from 0.27193\n",
            "142/142 [==============================] - 202s 1s/step - loss: 0.2700 - acc: 0.7906 - val_loss: 0.3115 - val_acc: 0.7812\n",
            "Epoch 21/50\n",
            "142/142 [==============================] - ETA: 0s - loss: 0.2704 - acc: 0.7769\n",
            "Epoch 00021: val_loss did not improve from 0.27193\n",
            "142/142 [==============================] - 201s 1s/step - loss: 0.2704 - acc: 0.7769 - val_loss: 0.2753 - val_acc: 0.7750\n",
            "Epoch 22/50\n",
            "142/142 [==============================] - ETA: 0s - loss: 0.2638 - acc: 0.7910\n",
            "Epoch 00022: val_loss did not improve from 0.27193\n",
            "142/142 [==============================] - 199s 1s/step - loss: 0.2638 - acc: 0.7910 - val_loss: 0.2819 - val_acc: 0.7750\n",
            "Epoch 23/50\n",
            "142/142 [==============================] - ETA: 0s - loss: 0.2586 - acc: 0.7879\n",
            "Epoch 00023: val_loss did not improve from 0.27193\n",
            "142/142 [==============================] - 196s 1s/step - loss: 0.2586 - acc: 0.7879 - val_loss: 0.2848 - val_acc: 0.7777\n",
            "Epoch 24/50\n",
            "142/142 [==============================] - ETA: 0s - loss: 0.2535 - acc: 0.7924\n",
            "Epoch 00024: val_loss did not improve from 0.27193\n",
            "142/142 [==============================] - 196s 1s/step - loss: 0.2535 - acc: 0.7924 - val_loss: 0.2979 - val_acc: 0.7741\n",
            "Epoch 25/50\n",
            "142/142 [==============================] - ETA: 0s - loss: 0.2457 - acc: 0.8023\n",
            "Epoch 00025: val_loss improved from 0.27193 to 0.27178, saving model to model.h5\n",
            "142/142 [==============================] - 197s 1s/step - loss: 0.2457 - acc: 0.8023 - val_loss: 0.2718 - val_acc: 0.7857\n",
            "Epoch 26/50\n",
            "142/142 [==============================] - ETA: 0s - loss: 0.2503 - acc: 0.8016\n",
            "Epoch 00026: val_loss did not improve from 0.27178\n",
            "142/142 [==============================] - 200s 1s/step - loss: 0.2503 - acc: 0.8016 - val_loss: 0.2728 - val_acc: 0.7795\n",
            "Epoch 27/50\n",
            "142/142 [==============================] - ETA: 0s - loss: 0.2451 - acc: 0.7921\n",
            "Epoch 00027: val_loss did not improve from 0.27178\n",
            "142/142 [==============================] - 202s 1s/step - loss: 0.2451 - acc: 0.7921 - val_loss: 0.2794 - val_acc: 0.7865\n",
            "Epoch 28/50\n",
            "142/142 [==============================] - ETA: 0s - loss: 0.2390 - acc: 0.7988\n",
            "Epoch 00028: val_loss did not improve from 0.27178\n",
            "142/142 [==============================] - 204s 1s/step - loss: 0.2390 - acc: 0.7988 - val_loss: 0.2846 - val_acc: 0.7786\n",
            "Epoch 29/50\n",
            "142/142 [==============================] - ETA: 0s - loss: 0.2496 - acc: 0.7928\n",
            "Epoch 00029: val_loss did not improve from 0.27178\n",
            "142/142 [==============================] - 204s 1s/step - loss: 0.2496 - acc: 0.7928 - val_loss: 0.2829 - val_acc: 0.7874\n",
            "Epoch 30/50\n",
            "142/142 [==============================] - ETA: 0s - loss: 0.2457 - acc: 0.7948\n",
            "Epoch 00030: val_loss did not improve from 0.27178\n",
            "142/142 [==============================] - 205s 1s/step - loss: 0.2457 - acc: 0.7948 - val_loss: 0.2881 - val_acc: 0.7945\n",
            "Epoch 31/50\n",
            "142/142 [==============================] - ETA: 0s - loss: 0.2317 - acc: 0.8025\n",
            "Epoch 00031: val_loss did not improve from 0.27178\n",
            "142/142 [==============================] - 204s 1s/step - loss: 0.2317 - acc: 0.8025 - val_loss: 0.2809 - val_acc: 0.7848\n",
            "Epoch 32/50\n",
            "142/142 [==============================] - ETA: 0s - loss: 0.2317 - acc: 0.8038\n",
            "Epoch 00032: val_loss did not improve from 0.27178\n",
            "142/142 [==============================] - 208s 1s/step - loss: 0.2317 - acc: 0.8038 - val_loss: 0.3022 - val_acc: 0.7936\n",
            "Epoch 33/50\n",
            "142/142 [==============================] - ETA: 0s - loss: 0.2326 - acc: 0.8056\n",
            "Epoch 00033: val_loss did not improve from 0.27178\n",
            "142/142 [==============================] - 210s 1s/step - loss: 0.2326 - acc: 0.8056 - val_loss: 0.2830 - val_acc: 0.7883\n",
            "Epoch 34/50\n",
            "142/142 [==============================] - ETA: 0s - loss: 0.2285 - acc: 0.8054\n",
            "Epoch 00034: val_loss did not improve from 0.27178\n",
            "142/142 [==============================] - 211s 1s/step - loss: 0.2285 - acc: 0.8054 - val_loss: 0.2914 - val_acc: 0.7715\n",
            "Epoch 35/50\n",
            "142/142 [==============================] - ETA: 0s - loss: 0.2291 - acc: 0.8105\n",
            "Epoch 00035: val_loss improved from 0.27178 to 0.26572, saving model to model.h5\n",
            "142/142 [==============================] - 211s 1s/step - loss: 0.2291 - acc: 0.8105 - val_loss: 0.2657 - val_acc: 0.7998\n",
            "Epoch 36/50\n",
            "142/142 [==============================] - ETA: 0s - loss: 0.2254 - acc: 0.8087\n",
            "Epoch 00036: val_loss did not improve from 0.26572\n",
            "142/142 [==============================] - 211s 1s/step - loss: 0.2254 - acc: 0.8087 - val_loss: 0.2971 - val_acc: 0.7821\n",
            "Epoch 37/50\n",
            "142/142 [==============================] - ETA: 0s - loss: 0.2309 - acc: 0.8023\n",
            "Epoch 00037: val_loss did not improve from 0.26572\n",
            "142/142 [==============================] - 210s 1s/step - loss: 0.2309 - acc: 0.8023 - val_loss: 0.2871 - val_acc: 0.7812\n",
            "Epoch 38/50\n",
            "142/142 [==============================] - ETA: 0s - loss: 0.2179 - acc: 0.8080\n",
            "Epoch 00038: val_loss did not improve from 0.26572\n",
            "142/142 [==============================] - 211s 1s/step - loss: 0.2179 - acc: 0.8080 - val_loss: 0.3061 - val_acc: 0.7865\n",
            "Epoch 39/50\n",
            "142/142 [==============================] - ETA: 0s - loss: 0.2263 - acc: 0.8224\n",
            "Epoch 00039: val_loss did not improve from 0.26572\n",
            "142/142 [==============================] - 210s 1s/step - loss: 0.2263 - acc: 0.8224 - val_loss: 0.2797 - val_acc: 0.7919\n",
            "Epoch 40/50\n",
            "142/142 [==============================] - ETA: 0s - loss: 0.2102 - acc: 0.8153\n",
            "Epoch 00040: val_loss did not improve from 0.26572\n",
            "142/142 [==============================] - 210s 1s/step - loss: 0.2102 - acc: 0.8153 - val_loss: 0.2753 - val_acc: 0.7945\n",
            "Epoch 41/50\n",
            "142/142 [==============================] - ETA: 0s - loss: 0.2282 - acc: 0.8118\n",
            "Epoch 00041: val_loss did not improve from 0.26572\n",
            "142/142 [==============================] - 212s 1s/step - loss: 0.2282 - acc: 0.8118 - val_loss: 0.2891 - val_acc: 0.7936\n",
            "Epoch 42/50\n",
            "142/142 [==============================] - ETA: 0s - loss: 0.2049 - acc: 0.8233\n",
            "Epoch 00042: val_loss did not improve from 0.26572\n",
            "142/142 [==============================] - 213s 2s/step - loss: 0.2049 - acc: 0.8233 - val_loss: 0.2883 - val_acc: 0.7998\n",
            "Epoch 43/50\n",
            "142/142 [==============================] - ETA: 0s - loss: 0.2142 - acc: 0.8151\n",
            "Epoch 00043: val_loss did not improve from 0.26572\n",
            "142/142 [==============================] - 212s 1s/step - loss: 0.2142 - acc: 0.8151 - val_loss: 0.3144 - val_acc: 0.7609\n",
            "Epoch 44/50\n",
            "142/142 [==============================] - ETA: 0s - loss: 0.2072 - acc: 0.8125\n",
            "Epoch 00044: val_loss did not improve from 0.26572\n",
            "142/142 [==============================] - 209s 1s/step - loss: 0.2072 - acc: 0.8125 - val_loss: 0.2867 - val_acc: 0.7910\n",
            "Epoch 45/50\n",
            "142/142 [==============================] - ETA: 0s - loss: 0.2022 - acc: 0.8193\n",
            "Epoch 00045: val_loss did not improve from 0.26572\n",
            "142/142 [==============================] - 209s 1s/step - loss: 0.2022 - acc: 0.8193 - val_loss: 0.3150 - val_acc: 0.7874\n",
            "Epoch 46/50\n",
            "142/142 [==============================] - ETA: 0s - loss: 0.2084 - acc: 0.8253\n",
            "Epoch 00046: val_loss did not improve from 0.26572\n",
            "142/142 [==============================] - 208s 1s/step - loss: 0.2084 - acc: 0.8253 - val_loss: 0.2770 - val_acc: 0.8025\n",
            "Epoch 47/50\n",
            "142/142 [==============================] - ETA: 0s - loss: 0.1965 - acc: 0.8321\n",
            "Epoch 00047: val_loss did not improve from 0.26572\n",
            "142/142 [==============================] - 209s 1s/step - loss: 0.1965 - acc: 0.8321 - val_loss: 0.2820 - val_acc: 0.7954\n",
            "Epoch 48/50\n",
            "142/142 [==============================] - ETA: 0s - loss: 0.2076 - acc: 0.8253\n",
            "Epoch 00048: val_loss did not improve from 0.26572\n",
            "142/142 [==============================] - 207s 1s/step - loss: 0.2076 - acc: 0.8253 - val_loss: 0.2825 - val_acc: 0.7972\n",
            "Epoch 49/50\n",
            "142/142 [==============================] - ETA: 0s - loss: 0.1975 - acc: 0.8244\n",
            "Epoch 00049: val_loss did not improve from 0.26572\n",
            "142/142 [==============================] - 206s 1s/step - loss: 0.1975 - acc: 0.8244 - val_loss: 0.2872 - val_acc: 0.7998\n",
            "Epoch 50/50\n",
            "142/142 [==============================] - ETA: 0s - loss: 0.1963 - acc: 0.8304\n",
            "Epoch 00050: val_loss did not improve from 0.26572\n",
            "142/142 [==============================] - 206s 1s/step - loss: 0.1963 - acc: 0.8304 - val_loss: 0.2891 - val_acc: 0.7901\n"
          ],
          "name": "stdout"
        }
      ]
    },
    {
      "cell_type": "code",
      "metadata": {
        "id": "lHMkhnndhIl9",
        "colab_type": "code",
        "colab": {
          "base_uri": "https://localhost:8080/",
          "height": 894
        },
        "outputId": "6b6d23e0-bc47-4161-d1c1-35057a3498be"
      },
      "source": [
        "import matplotlib.pyplot as plt\n",
        "import seaborn as sns\n",
        "\n",
        "history = history.history\n",
        "\n",
        "fig, (ax1, ax2) = plt.subplots(2, 1, sharex='col', figsize=(20, 14))\n",
        "\n",
        "ax1.plot(history['loss'], label='Train loss')\n",
        "ax1.plot(history['val_loss'], label='Validation loss')\n",
        "ax1.legend(loc='best')\n",
        "ax1.set_title('Loss')\n",
        "\n",
        "ax2.plot(history['acc'], label='Train accuracy')\n",
        "ax2.plot(history['val_acc'], label='Validation accuracy')\n",
        "ax2.legend(loc='best')\n",
        "ax2.set_title('Accuracy')\n",
        "\n",
        "plt.xlabel('Epochs')\n",
        "sns.despine()\n",
        "plt.show()"
      ],
      "execution_count": 26,
      "outputs": [
        {
          "output_type": "stream",
          "text": [
            "/usr/local/lib/python3.6/dist-packages/statsmodels/tools/_testing.py:19: FutureWarning: pandas.util.testing is deprecated. Use the functions in the public API at pandas.testing instead.\n",
            "  import pandas.util.testing as tm\n"
          ],
          "name": "stderr"
        },
        {
          "output_type": "display_data",
          "data": {
            "image/png": "[encoded data removed]",
            "text/plain": [
              "<Figure size 1440x1008 with 2 Axes>"
            ]
          },
          "metadata": {
            "tags": [],
            "needs_background": "light"
          }
        }
      ]
    },
    {
      "cell_type": "code",
      "metadata": {
        "id": "7NFEsFS-1hrP",
        "colab_type": "code",
        "colab": {}
      },
      "source": [
        "# Reload the best weights from the checkpoint file\n",
        "model.load_weights(checkpoint_filepath)"
      ],
      "execution_count": 27,
      "outputs": []
    },
    {
      "cell_type": "markdown",
      "metadata": {
        "id": "SdhAGgtS-j7E",
        "colab_type": "text"
      },
      "source": [
        "# Prepare the test data"
      ]
    },
    {
      "cell_type": "code",
      "metadata": {
        "id": "WIFmzLDo44J6",
        "colab_type": "code",
        "colab": {
          "base_uri": "https://localhost:8080/",
          "height": 34
        },
        "outputId": "8698049a-f2cb-4f9b-95ae-b10988f78240"
      },
      "source": [
        "imageDataGenerator = ImageDataGenerator(rescale=1/255.)\n",
        "\n",
        "test_gen = imageDataGenerator.flow_from_directory('/content/test/', target_size=(380, 380),\n",
        "                                                  class_mode=None, batch_size=32, shuffle=False)"
      ],
      "execution_count": 28,
      "outputs": [
        {
          "output_type": "stream",
          "text": [
            "Found 3774 images belonging to 1 classes.\n"
          ],
          "name": "stdout"
        }
      ]
    },
    {
      "cell_type": "markdown",
      "metadata": {
        "id": "atnxiqV2-yf6",
        "colab_type": "text"
      },
      "source": [
        "# Make predictions for the test data\n",
        "\n",
        "Note that these predictions are probabilities for each class"
      ]
    },
    {
      "cell_type": "code",
      "metadata": {
        "id": "h_MPahTu5HNB",
        "colab_type": "code",
        "colab": {
          "base_uri": "https://localhost:8080/",
          "height": 34
        },
        "outputId": "e141fcfc-2446-44b2-fc07-48deccf93df1"
      },
      "source": [
        "predictions = model.predict(test_gen, verbose=1)"
      ],
      "execution_count": 29,
      "outputs": [
        {
          "output_type": "stream",
          "text": [
            "118/118 [==============================] - 47s 401ms/step\n"
          ],
          "name": "stdout"
        }
      ]
    },
    {
      "cell_type": "markdown",
      "metadata": {
        "id": "XWd-1ag0_ADI",
        "colab_type": "text"
      },
      "source": [
        "# Prepare Kaggle submission file\n",
        "\n",
        "Use the highest probable class as the submitted Category."
      ]
    },
    {
      "cell_type": "code",
      "metadata": {
        "id": "j_H6Nmgd5jNd",
        "colab_type": "code",
        "colab": {
          "base_uri": "https://localhost:8080/",
          "height": 247
        },
        "outputId": "80daa1d0-1c8e-4d89-86bb-1ce0e16b7d9d"
      },
      "source": [
        "import numpy as np\n",
        "import pandas as pd\n",
        "\n",
        "_predicted_classes = [np.argmax(predictions[i]) for i in range(len(predictions))]\n",
        "_class_labels = np.array(['cbb','cbsd','cgm','cmd','healthy'])\n",
        "_predicted_class_labels = _class_labels[_predicted_classes]\n",
        "\n",
        "submission = pd.read_csv('/content/sample_submission_file.csv')\n",
        "print(submission.head())\n",
        "\n",
        "filenames = test_gen.filenames\n",
        "new_ids = []\n",
        "for filename in filenames:\n",
        "  new_ids.append(filename.replace('0/', ''))\n",
        "\n",
        "submission['Category'] = _predicted_class_labels\n",
        "submission['Id'] = new_ids\n",
        "print(submission.head())\n",
        "\n",
        "submission.to_csv('submission.csv', index=False)\n",
        "\n",
        "print(len(submission))"
      ],
      "execution_count": 30,
      "outputs": [
        {
          "output_type": "stream",
          "text": [
            "  Category              Id\n",
            "0     cbsd  test-img-0.jpg\n",
            "1      cmd  test-img-1.jpg\n",
            "2      cbb  test-img-2.jpg\n",
            "3      cmd  test-img-3.jpg\n",
            "4     cbsd  test-img-4.jpg\n",
            "  Category                 Id\n",
            "0      cmd     test-img-0.jpg\n",
            "1     cbsd     test-img-1.jpg\n",
            "2      cmd    test-img-10.jpg\n",
            "3      cmd   test-img-100.jpg\n",
            "4     cbsd  test-img-1000.jpg\n",
            "3774\n"
          ],
          "name": "stdout"
        }
      ]
    },
    {
      "cell_type": "markdown",
      "metadata": {
        "id": "vispSC5H_Pdu",
        "colab_type": "text"
      },
      "source": [
        "# Submit to Kaggle\n",
        "\n",
        "To see the score, login to the competion on Kaggle"
      ]
    },
    {
      "cell_type": "code",
      "metadata": {
        "id": "VRkApcvOTP49",
        "colab_type": "code",
        "colab": {
          "base_uri": "https://localhost:8080/",
          "height": 70
        },
        "outputId": "68a16611-b1c3-443d-9d7d-3f43a4516d79"
      },
      "source": [
        "# submit the file to kaggle\n",
        "!kaggle competitions submit cassava-disease -f submission.csv -m \"Focal loss\""
      ],
      "execution_count": 32,
      "outputs": [
        {
          "output_type": "stream",
          "text": [
            "Warning: Looks like you're using an outdated API Version, please consider updating (server 1.5.6 / client 1.5.4)\n",
            "100% 81.9k/81.9k [00:02<00:00, 41.6kB/s]\n",
            "Successfully submitted to Cassava Disease Classification "
          ],
          "name": "stdout"
        }
      ]
    }
  ]
}