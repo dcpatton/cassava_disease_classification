{
  "nbformat": 4,
  "nbformat_minor": 0,
  "metadata": {
    "colab": {
      "name": "Kaggle cassava.ipynb",
      "provenance": [],
      "collapsed_sections": [],
      "authorship_tag": "ABX9TyPPCYQG2b/oRqRQdULLwpLw",
      "include_colab_link": true
    },
    "kernelspec": {
      "name": "python3",
      "display_name": "Python 3"
    },
    "accelerator": "GPU"
  },
  "cells": [
    {
      "cell_type": "markdown",
      "metadata": {
        "id": "view-in-github",
        "colab_type": "text"
      },
      "source": [
        "<a href=\"https://colab.research.google.com/github/dcpatton/cassava_disease_classification/blob/master/Kaggle_cassava.ipynb\" target=\"_parent\"><img src=\"https://colab.research.google.com/assets/colab-badge.svg\" alt=\"Open In Colab\"/></a>"
      ]
    },
    {
      "cell_type": "markdown",
      "metadata": {
        "id": "tTltp4319Fas",
        "colab_type": "text"
      },
      "source": [
        "# Cassava Disease Classifcation\n",
        "\n",
        "\n",
        " https://arxiv.org/pdf/1908.02900.pdf"
      ]
    },
    {
      "cell_type": "code",
      "metadata": {
        "id": "UhmBurArWNqw",
        "colab_type": "code",
        "colab": {
          "base_uri": "https://localhost:8080/",
          "height": 52
        },
        "outputId": "ad0eac35-1165-425e-b34b-7adf8451e1c5"
      },
      "source": [
        "import tensorflow as tf\n",
        "import tensorflow_hub as hub\n",
        "import random\n",
        "print(tf.__version__)\n",
        "print(hub.__version__)\n",
        "\n",
        "seed = 51\n",
        "tf.random.set_seed(seed)\n",
        "random.seed(seed)"
      ],
      "execution_count": null,
      "outputs": [
        {
          "output_type": "stream",
          "text": [
            "2.2.0\n",
            "0.8.0\n"
          ],
          "name": "stdout"
        }
      ]
    },
    {
      "cell_type": "markdown",
      "metadata": {
        "id": "qJL_5Nue7bev",
        "colab_type": "text"
      },
      "source": [
        "# Upload Kaggle credentials"
      ]
    },
    {
      "cell_type": "code",
      "metadata": {
        "id": "LE40r4PCSZKV",
        "colab_type": "code",
        "colab": {
          "resources": {
            "http://localhost:8080/nbextensions/google.colab/files.js": {
              "data": "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",
              "ok": true,
              "headers": [
                [
                  "content-type",
                  "application/javascript"
                ]
              ],
              "status": 200,
              "status_text": ""
            }
          },
          "base_uri": "https://localhost:8080/",
          "height": 56
        },
        "outputId": "4c059be1-ea45-46a9-8c43-90601abfcd3f"
      },
      "source": [
        "# upload the kaggle.json file from local computer\n",
        "from google.colab import files\n",
        "files.upload()"
      ],
      "execution_count": 1,
      "outputs": [
        {
          "output_type": "display_data",
          "data": {
            "text/html": [
              "\n",
              "     <input type=\"file\" id=\"files-dc17971c-c87d-4a70-82f6-f4f4d6d51aed\" name=\"files[]\" multiple disabled\n",
              "        style=\"border:none\" />\n",
              "     <output id=\"result-dc17971c-c87d-4a70-82f6-f4f4d6d51aed\">\n",
              "      Upload widget is only available when the cell has been executed in the\n",
              "      current browser session. Please rerun this cell to enable.\n",
              "      </output>\n",
              "      <script src=\"/nbextensions/google.colab/files.js\"></script> "
            ],
            "text/plain": [
              "<IPython.core.display.HTML object>"
            ]
          },
          "metadata": {
            "tags": []
          }
        },
        {
          "output_type": "execute_result",
          "data": {
            "text/plain": [
              "{}"
            ]
          },
          "metadata": {
            "tags": []
          },
          "execution_count": 1
        }
      ]
    },
    {
      "cell_type": "code",
      "metadata": {
        "id": "8Lv2Pd_DSoED",
        "colab_type": "code",
        "colab": {
          "base_uri": "https://localhost:8080/",
          "height": 212
        },
        "outputId": "f80410bd-6540-4bda-a9b3-22891850f187"
      },
      "source": [
        "!mkdir -p ~/.kaggle\n",
        "!cp kaggle.json ~/.kaggle/\n",
        "!pip install kaggle --upgrade"
      ],
      "execution_count": null,
      "outputs": [
        {
          "output_type": "stream",
          "text": [
            "Requirement already up-to-date: kaggle in /usr/local/lib/python3.6/dist-packages (1.5.6)\n",
            "Requirement already satisfied, skipping upgrade: tqdm in /usr/local/lib/python3.6/dist-packages (from kaggle) (4.41.1)\n",
            "Requirement already satisfied, skipping upgrade: requests in /usr/local/lib/python3.6/dist-packages (from kaggle) (2.23.0)\n",
            "Requirement already satisfied, skipping upgrade: certifi in /usr/local/lib/python3.6/dist-packages (from kaggle) (2020.6.20)\n",
            "Requirement already satisfied, skipping upgrade: six>=1.10 in /usr/local/lib/python3.6/dist-packages (from kaggle) (1.15.0)\n",
            "Requirement already satisfied, skipping upgrade: python-dateutil in /usr/local/lib/python3.6/dist-packages (from kaggle) (2.8.1)\n",
            "Requirement already satisfied, skipping upgrade: python-slugify in /usr/local/lib/python3.6/dist-packages (from kaggle) (4.0.1)\n",
            "Requirement already satisfied, skipping upgrade: urllib3<1.25,>=1.21.1 in /usr/local/lib/python3.6/dist-packages (from kaggle) (1.24.3)\n",
            "Requirement already satisfied, skipping upgrade: chardet<4,>=3.0.2 in /usr/local/lib/python3.6/dist-packages (from requests->kaggle) (3.0.4)\n",
            "Requirement already satisfied, skipping upgrade: idna<3,>=2.5 in /usr/local/lib/python3.6/dist-packages (from requests->kaggle) (2.10)\n",
            "Requirement already satisfied, skipping upgrade: text-unidecode>=1.3 in /usr/local/lib/python3.6/dist-packages (from python-slugify->kaggle) (1.3)\n"
          ],
          "name": "stdout"
        }
      ]
    },
    {
      "cell_type": "code",
      "metadata": {
        "id": "1IQUBypIS0aY",
        "colab_type": "code",
        "colab": {
          "base_uri": "https://localhost:8080/",
          "height": 34
        },
        "outputId": "9fcc2b87-4169-42b5-ae96-391b01b32c0c"
      },
      "source": [
        "!ls -l /root/.kaggle/kaggle.json\n",
        "!chmod 600 /root/.kaggle/kaggle.json"
      ],
      "execution_count": null,
      "outputs": [
        {
          "output_type": "stream",
          "text": [
            "-rw-r--r-- 1 root root 64 Jul 25 12:41 /root/.kaggle/kaggle.json\n"
          ],
          "name": "stdout"
        }
      ]
    },
    {
      "cell_type": "markdown",
      "metadata": {
        "id": "17M2EL6g9qB1",
        "colab_type": "text"
      },
      "source": [
        "# Download competition files from Kaggle"
      ]
    },
    {
      "cell_type": "code",
      "metadata": {
        "id": "Sh8PWrnpS-M3",
        "colab_type": "code",
        "colab": {
          "base_uri": "https://localhost:8080/",
          "height": 176
        },
        "outputId": "0ef81d3b-f455-438d-a8bf-f8fd88d9856f"
      },
      "source": [
        "!kaggle competitions download -c cassava-disease -f train.zip\n",
        "!kaggle competitions download -c cassava-disease -f test.zip\n",
        "!kaggle competitions download -c cassava-disease -f sample_submission_file.csv"
      ],
      "execution_count": null,
      "outputs": [
        {
          "output_type": "stream",
          "text": [
            "Downloading train.zip to /content\n",
            " 98% 761M/777M [00:11<00:00, 69.1MB/s]\n",
            "100% 777M/777M [00:11<00:00, 70.1MB/s]\n",
            "Downloading test.zip to /content\n",
            " 98% 505M/515M [00:07<00:00, 62.1MB/s]\n",
            "100% 515M/515M [00:07<00:00, 70.2MB/s]\n",
            "Downloading sample_submission_file.csv to /content\n",
            "  0% 0.00/83.8k [00:00<?, ?B/s]\n",
            "100% 83.8k/83.8k [00:00<00:00, 30.9MB/s]\n"
          ],
          "name": "stdout"
        }
      ]
    },
    {
      "cell_type": "code",
      "metadata": {
        "id": "LtEZwlInT_hW",
        "colab_type": "code",
        "colab": {}
      },
      "source": [
        "!unzip train.zip > /dev/null\n",
        "!unzip test.zip > /dev/null"
      ],
      "execution_count": null,
      "outputs": []
    },
    {
      "cell_type": "markdown",
      "metadata": {
        "id": "mGk3pzJi91Oe",
        "colab_type": "text"
      },
      "source": [
        "# Prepare the training and validation data\n",
        "\n",
        "Note that 20% of the test data is used for validation"
      ]
    },
    {
      "cell_type": "code",
      "metadata": {
        "id": "JuZRCejLT-oe",
        "colab_type": "code",
        "colab": {
          "base_uri": "https://localhost:8080/",
          "height": 52
        },
        "outputId": "ca1b802a-59e5-4ac0-fdb7-1f05ef070867"
      },
      "source": [
        "from tensorflow.keras.preprocessing.image import ImageDataGenerator\n",
        "\n",
        "imageDataGenerator = ImageDataGenerator(rescale=1/255.,\n",
        "                                        rotation_range=45,\n",
        "                                        horizontal_flip=True,\n",
        "                                        vertical_flip=True,\n",
        "                                        zoom_range=0.2,\n",
        "                                        shear_range=10,\n",
        "                                        validation_split=0.2,\n",
        "                                       )\n",
        "\n",
        "train_gen = imageDataGenerator.flow_from_directory('/content/train/', target_size=(380, 380), subset='training',\n",
        "                                                   class_mode='categorical', batch_size=32, shuffle=True)\n",
        "\n",
        "val_gen = imageDataGenerator.flow_from_directory('/content/train/', target_size=(380, 380), subset='validation',\n",
        "                                                  class_mode='categorical', batch_size=32, shuffle=False)"
      ],
      "execution_count": null,
      "outputs": [
        {
          "output_type": "stream",
          "text": [
            "Found 4527 images belonging to 5 classes.\n",
            "Found 1129 images belonging to 5 classes.\n"
          ],
          "name": "stdout"
        }
      ]
    },
    {
      "cell_type": "code",
      "metadata": {
        "id": "eqEqTEla9LKv",
        "colab_type": "code",
        "colab": {}
      },
      "source": [
        "num_classes = 5"
      ],
      "execution_count": null,
      "outputs": []
    },
    {
      "cell_type": "markdown",
      "metadata": {
        "id": "uncP4dA-970n",
        "colab_type": "text"
      },
      "source": [
        "# Define the model\n",
        "\n",
        "The model is based on EfficientNet B4"
      ]
    },
    {
      "cell_type": "code",
      "metadata": {
        "id": "aI9RM2CruInw",
        "colab_type": "code",
        "colab": {
          "base_uri": "https://localhost:8080/",
          "height": 443
        },
        "outputId": "850cba7c-93be-44e0-c386-f7ecac577bbc"
      },
      "source": [
        "from tensorflow.keras.layers import Dense, InputLayer, Dropout\n",
        "from tensorflow.keras.optimizers import Adam\n",
        "\n",
        "MODULE_HANDLE = \"https://tfhub.dev/tensorflow/efficientnet/b4/feature-vector/1\"\n",
        "\n",
        "IMAGE_SIZE = (380, 380)\n",
        "\n",
        "model = tf.keras.Sequential([\n",
        "    InputLayer(input_shape=IMAGE_SIZE + (3,)),\n",
        "    hub.KerasLayer(MODULE_HANDLE, trainable=False),\n",
        "    Dense(512, activation='relu'),\n",
        "    Dropout(0.33),\n",
        "    Dense(256, activation='relu'),\n",
        "    Dropout(0.33),\n",
        "    Dense(128, activation='relu'),\n",
        "    Dropout(0.33),\n",
        "    Dense(num_classes, activation='softmax')\n",
        "])\n",
        "\n",
        "model.compile(optimizer=Adam(), loss='categorical_crossentropy', metrics=['acc'])\n",
        "\n",
        "model.summary()"
      ],
      "execution_count": null,
      "outputs": [
        {
          "output_type": "stream",
          "text": [
            "Model: \"sequential\"\n",
            "_________________________________________________________________\n",
            "Layer (type)                 Output Shape              Param #   \n",
            "=================================================================\n",
            "keras_layer (KerasLayer)     (None, 1792)              17673816  \n",
            "_________________________________________________________________\n",
            "dense (Dense)                (None, 512)               918016    \n",
            "_________________________________________________________________\n",
            "dropout (Dropout)            (None, 512)               0         \n",
            "_________________________________________________________________\n",
            "dense_1 (Dense)              (None, 256)               131328    \n",
            "_________________________________________________________________\n",
            "dropout_1 (Dropout)          (None, 256)               0         \n",
            "_________________________________________________________________\n",
            "dense_2 (Dense)              (None, 128)               32896     \n",
            "_________________________________________________________________\n",
            "dropout_2 (Dropout)          (None, 128)               0         \n",
            "_________________________________________________________________\n",
            "dense_3 (Dense)              (None, 5)                 645       \n",
            "=================================================================\n",
            "Total params: 18,756,701\n",
            "Trainable params: 1,082,885\n",
            "Non-trainable params: 17,673,816\n",
            "_________________________________________________________________\n"
          ],
          "name": "stdout"
        }
      ]
    },
    {
      "cell_type": "code",
      "metadata": {
        "id": "jkvO96Cgw8Af",
        "colab_type": "code",
        "colab": {
          "base_uri": "https://localhost:8080/",
          "height": 158
        },
        "outputId": "ae8e0076-5d56-483b-fa2b-5022423472e0"
      },
      "source": [
        "for layer in model.layers:\n",
        "  print(layer.name + ':  ' + str(layer.trainable))"
      ],
      "execution_count": null,
      "outputs": [
        {
          "output_type": "stream",
          "text": [
            "keras_layer:  False\n",
            "dense:  True\n",
            "dropout:  True\n",
            "dense_1:  True\n",
            "dropout_1:  True\n",
            "dense_2:  True\n",
            "dropout_2:  True\n",
            "dense_3:  True\n"
          ],
          "name": "stdout"
        }
      ]
    },
    {
      "cell_type": "markdown",
      "metadata": {
        "id": "Ur6E2llk-A6c",
        "colab_type": "text"
      },
      "source": [
        "# Train the model\n",
        "\n",
        "Recommended to use a GPU. Save the best weights in a checkpoint file for later use."
      ]
    },
    {
      "cell_type": "code",
      "metadata": {
        "id": "NuP1kPAtgYjo",
        "colab_type": "code",
        "colab": {
          "base_uri": "https://localhost:8080/",
          "height": 1000
        },
        "outputId": "dfeb6106-441d-447f-f35d-fab5142396f3"
      },
      "source": [
        "from tensorflow.keras.callbacks import ModelCheckpoint\n",
        "checkpoint_filepath = 'model.h5'\n",
        "mc = tf.keras.callbacks.ModelCheckpoint(checkpoint_filepath, verbose=1, \n",
        "                                        save_weights_only=True, monitor='val_loss', \n",
        "                                        mode='auto', save_best_only=True)\n",
        "\n",
        "history = model.fit(train_gen, epochs=50, verbose=1, callbacks=[mc], validation_data=val_gen)"
      ],
      "execution_count": null,
      "outputs": [
        {
          "output_type": "stream",
          "text": [
            "Epoch 1/50\n",
            "142/142 [==============================] - ETA: 0s - loss: 1.0182 - acc: 0.6240\n",
            "Epoch 00001: val_loss improved from inf to 0.83049, saving model to model.h5\n",
            "142/142 [==============================] - 199s 1s/step - loss: 1.0182 - acc: 0.6240 - val_loss: 0.8305 - val_acc: 0.7077\n",
            "Epoch 2/50\n",
            "142/142 [==============================] - ETA: 0s - loss: 0.8470 - acc: 0.6903\n",
            "Epoch 00002: val_loss improved from 0.83049 to 0.70935, saving model to model.h5\n",
            "142/142 [==============================] - 196s 1s/step - loss: 0.8470 - acc: 0.6903 - val_loss: 0.7094 - val_acc: 0.7449\n",
            "Epoch 3/50\n",
            "142/142 [==============================] - ETA: 0s - loss: 0.7825 - acc: 0.7219\n",
            "Epoch 00003: val_loss improved from 0.70935 to 0.68767, saving model to model.h5\n",
            "142/142 [==============================] - 194s 1s/step - loss: 0.7825 - acc: 0.7219 - val_loss: 0.6877 - val_acc: 0.7520\n",
            "Epoch 4/50\n",
            "142/142 [==============================] - ETA: 0s - loss: 0.7426 - acc: 0.7387\n",
            "Epoch 00004: val_loss did not improve from 0.68767\n",
            "142/142 [==============================] - 196s 1s/step - loss: 0.7426 - acc: 0.7387 - val_loss: 0.7168 - val_acc: 0.7493\n",
            "Epoch 5/50\n",
            "142/142 [==============================] - ETA: 0s - loss: 0.7305 - acc: 0.7438\n",
            "Epoch 00005: val_loss improved from 0.68767 to 0.65544, saving model to model.h5\n",
            "142/142 [==============================] - 196s 1s/step - loss: 0.7305 - acc: 0.7438 - val_loss: 0.6554 - val_acc: 0.7715\n",
            "Epoch 6/50\n",
            "142/142 [==============================] - ETA: 0s - loss: 0.6918 - acc: 0.7641\n",
            "Epoch 00006: val_loss did not improve from 0.65544\n",
            "142/142 [==============================] - 195s 1s/step - loss: 0.6918 - acc: 0.7641 - val_loss: 0.7110 - val_acc: 0.7352\n",
            "Epoch 7/50\n",
            "142/142 [==============================] - ETA: 0s - loss: 0.6743 - acc: 0.7628\n",
            "Epoch 00007: val_loss improved from 0.65544 to 0.65127, saving model to model.h5\n",
            "142/142 [==============================] - 195s 1s/step - loss: 0.6743 - acc: 0.7628 - val_loss: 0.6513 - val_acc: 0.7538\n",
            "Epoch 8/50\n",
            "142/142 [==============================] - ETA: 0s - loss: 0.6609 - acc: 0.7709\n",
            "Epoch 00008: val_loss improved from 0.65127 to 0.60447, saving model to model.h5\n",
            "142/142 [==============================] - 195s 1s/step - loss: 0.6609 - acc: 0.7709 - val_loss: 0.6045 - val_acc: 0.7812\n",
            "Epoch 9/50\n",
            "142/142 [==============================] - ETA: 0s - loss: 0.6574 - acc: 0.7641\n",
            "Epoch 00009: val_loss did not improve from 0.60447\n",
            "142/142 [==============================] - 195s 1s/step - loss: 0.6574 - acc: 0.7641 - val_loss: 0.6046 - val_acc: 0.7795\n",
            "Epoch 10/50\n",
            "142/142 [==============================] - ETA: 0s - loss: 0.6274 - acc: 0.7913\n",
            "Epoch 00010: val_loss did not improve from 0.60447\n",
            "142/142 [==============================] - 196s 1s/step - loss: 0.6274 - acc: 0.7913 - val_loss: 0.6539 - val_acc: 0.7617\n",
            "Epoch 11/50\n",
            "142/142 [==============================] - ETA: 0s - loss: 0.6187 - acc: 0.7844\n",
            "Epoch 00011: val_loss improved from 0.60447 to 0.57618, saving model to model.h5\n",
            "142/142 [==============================] - 196s 1s/step - loss: 0.6187 - acc: 0.7844 - val_loss: 0.5762 - val_acc: 0.7998\n",
            "Epoch 12/50\n",
            "142/142 [==============================] - ETA: 0s - loss: 0.6147 - acc: 0.7842\n",
            "Epoch 00012: val_loss did not improve from 0.57618\n",
            "142/142 [==============================] - 195s 1s/step - loss: 0.6147 - acc: 0.7842 - val_loss: 0.5797 - val_acc: 0.7945\n",
            "Epoch 13/50\n",
            "142/142 [==============================] - ETA: 0s - loss: 0.5956 - acc: 0.7952\n",
            "Epoch 00013: val_loss did not improve from 0.57618\n",
            "142/142 [==============================] - 195s 1s/step - loss: 0.5956 - acc: 0.7952 - val_loss: 0.6109 - val_acc: 0.7812\n",
            "Epoch 14/50\n",
            "142/142 [==============================] - ETA: 0s - loss: 0.6033 - acc: 0.7899\n",
            "Epoch 00014: val_loss did not improve from 0.57618\n",
            "142/142 [==============================] - 195s 1s/step - loss: 0.6033 - acc: 0.7899 - val_loss: 0.6030 - val_acc: 0.7857\n",
            "Epoch 15/50\n",
            "142/142 [==============================] - ETA: 0s - loss: 0.5725 - acc: 0.8010\n",
            "Epoch 00015: val_loss did not improve from 0.57618\n",
            "142/142 [==============================] - 195s 1s/step - loss: 0.5725 - acc: 0.8010 - val_loss: 0.6033 - val_acc: 0.7848\n",
            "Epoch 16/50\n",
            "142/142 [==============================] - ETA: 0s - loss: 0.5722 - acc: 0.8056\n",
            "Epoch 00016: val_loss improved from 0.57618 to 0.57286, saving model to model.h5\n",
            "142/142 [==============================] - 195s 1s/step - loss: 0.5722 - acc: 0.8056 - val_loss: 0.5729 - val_acc: 0.7901\n",
            "Epoch 17/50\n",
            "142/142 [==============================] - ETA: 0s - loss: 0.5736 - acc: 0.8008\n",
            "Epoch 00017: val_loss did not improve from 0.57286\n",
            "142/142 [==============================] - 195s 1s/step - loss: 0.5736 - acc: 0.8008 - val_loss: 0.5823 - val_acc: 0.7901\n",
            "Epoch 18/50\n",
            "142/142 [==============================] - ETA: 0s - loss: 0.5368 - acc: 0.8158\n",
            "Epoch 00018: val_loss did not improve from 0.57286\n",
            "142/142 [==============================] - 195s 1s/step - loss: 0.5368 - acc: 0.8158 - val_loss: 0.5783 - val_acc: 0.7954\n",
            "Epoch 19/50\n",
            "142/142 [==============================] - ETA: 0s - loss: 0.5481 - acc: 0.8080\n",
            "Epoch 00019: val_loss did not improve from 0.57286\n",
            "142/142 [==============================] - 195s 1s/step - loss: 0.5481 - acc: 0.8080 - val_loss: 0.5934 - val_acc: 0.7857\n",
            "Epoch 20/50\n",
            "142/142 [==============================] - ETA: 0s - loss: 0.5182 - acc: 0.8122\n",
            "Epoch 00020: val_loss did not improve from 0.57286\n",
            "142/142 [==============================] - 196s 1s/step - loss: 0.5182 - acc: 0.8122 - val_loss: 0.5844 - val_acc: 0.8007\n",
            "Epoch 21/50\n",
            "142/142 [==============================] - ETA: 0s - loss: 0.5236 - acc: 0.8167\n",
            "Epoch 00021: val_loss improved from 0.57286 to 0.56890, saving model to model.h5\n",
            "142/142 [==============================] - 196s 1s/step - loss: 0.5236 - acc: 0.8167 - val_loss: 0.5689 - val_acc: 0.8025\n",
            "Epoch 22/50\n",
            "142/142 [==============================] - ETA: 0s - loss: 0.5360 - acc: 0.8162\n",
            "Epoch 00022: val_loss did not improve from 0.56890\n",
            "142/142 [==============================] - 197s 1s/step - loss: 0.5360 - acc: 0.8162 - val_loss: 0.5941 - val_acc: 0.7972\n",
            "Epoch 23/50\n",
            "142/142 [==============================] - ETA: 0s - loss: 0.5314 - acc: 0.8231\n",
            "Epoch 00023: val_loss did not improve from 0.56890\n",
            "142/142 [==============================] - 197s 1s/step - loss: 0.5314 - acc: 0.8231 - val_loss: 0.5795 - val_acc: 0.7821\n",
            "Epoch 24/50\n",
            "142/142 [==============================] - ETA: 0s - loss: 0.5080 - acc: 0.8209\n",
            "Epoch 00024: val_loss did not improve from 0.56890\n",
            "142/142 [==============================] - 198s 1s/step - loss: 0.5080 - acc: 0.8209 - val_loss: 0.6150 - val_acc: 0.7892\n",
            "Epoch 25/50\n",
            "142/142 [==============================] - ETA: 0s - loss: 0.5065 - acc: 0.8235\n",
            "Epoch 00025: val_loss improved from 0.56890 to 0.56849, saving model to model.h5\n",
            "142/142 [==============================] - 197s 1s/step - loss: 0.5065 - acc: 0.8235 - val_loss: 0.5685 - val_acc: 0.7927\n",
            "Epoch 26/50\n",
            "142/142 [==============================] - ETA: 0s - loss: 0.5073 - acc: 0.8299\n",
            "Epoch 00026: val_loss improved from 0.56849 to 0.55676, saving model to model.h5\n",
            "142/142 [==============================] - 197s 1s/step - loss: 0.5073 - acc: 0.8299 - val_loss: 0.5568 - val_acc: 0.8034\n",
            "Epoch 27/50\n",
            "142/142 [==============================] - ETA: 0s - loss: 0.4995 - acc: 0.8250\n",
            "Epoch 00027: val_loss did not improve from 0.55676\n",
            "142/142 [==============================] - 195s 1s/step - loss: 0.4995 - acc: 0.8250 - val_loss: 0.6170 - val_acc: 0.7883\n",
            "Epoch 28/50\n",
            "142/142 [==============================] - ETA: 0s - loss: 0.4968 - acc: 0.8264\n",
            "Epoch 00028: val_loss did not improve from 0.55676\n",
            "142/142 [==============================] - 195s 1s/step - loss: 0.4968 - acc: 0.8264 - val_loss: 0.5784 - val_acc: 0.8069\n",
            "Epoch 29/50\n",
            "142/142 [==============================] - ETA: 0s - loss: 0.4799 - acc: 0.8379\n",
            "Epoch 00029: val_loss did not improve from 0.55676\n",
            "142/142 [==============================] - 197s 1s/step - loss: 0.4799 - acc: 0.8379 - val_loss: 0.5654 - val_acc: 0.8051\n",
            "Epoch 30/50\n",
            "142/142 [==============================] - ETA: 0s - loss: 0.4783 - acc: 0.8390\n",
            "Epoch 00030: val_loss did not improve from 0.55676\n",
            "142/142 [==============================] - 196s 1s/step - loss: 0.4783 - acc: 0.8390 - val_loss: 0.5909 - val_acc: 0.7910\n",
            "Epoch 31/50\n",
            "142/142 [==============================] - ETA: 0s - loss: 0.4835 - acc: 0.8376\n",
            "Epoch 00031: val_loss improved from 0.55676 to 0.55325, saving model to model.h5\n",
            "142/142 [==============================] - 197s 1s/step - loss: 0.4835 - acc: 0.8376 - val_loss: 0.5533 - val_acc: 0.8184\n",
            "Epoch 32/50\n",
            "142/142 [==============================] - ETA: 0s - loss: 0.4817 - acc: 0.8321\n",
            "Epoch 00032: val_loss did not improve from 0.55325\n",
            "142/142 [==============================] - 197s 1s/step - loss: 0.4817 - acc: 0.8321 - val_loss: 0.5633 - val_acc: 0.8131\n",
            "Epoch 33/50\n",
            "142/142 [==============================] - ETA: 0s - loss: 0.4721 - acc: 0.8403\n",
            "Epoch 00033: val_loss did not improve from 0.55325\n",
            "142/142 [==============================] - 197s 1s/step - loss: 0.4721 - acc: 0.8403 - val_loss: 0.5550 - val_acc: 0.8078\n",
            "Epoch 34/50\n",
            "142/142 [==============================] - ETA: 0s - loss: 0.4553 - acc: 0.8487\n",
            "Epoch 00034: val_loss did not improve from 0.55325\n",
            "142/142 [==============================] - 197s 1s/step - loss: 0.4553 - acc: 0.8487 - val_loss: 0.5658 - val_acc: 0.7981\n",
            "Epoch 35/50\n",
            "142/142 [==============================] - ETA: 0s - loss: 0.4679 - acc: 0.8323\n",
            "Epoch 00035: val_loss did not improve from 0.55325\n",
            "142/142 [==============================] - 196s 1s/step - loss: 0.4679 - acc: 0.8323 - val_loss: 0.5584 - val_acc: 0.8051\n",
            "Epoch 36/50\n",
            "142/142 [==============================] - ETA: 0s - loss: 0.4462 - acc: 0.8443\n",
            "Epoch 00036: val_loss did not improve from 0.55325\n",
            "142/142 [==============================] - 195s 1s/step - loss: 0.4462 - acc: 0.8443 - val_loss: 0.5585 - val_acc: 0.8131\n",
            "Epoch 37/50\n",
            "142/142 [==============================] - ETA: 0s - loss: 0.4328 - acc: 0.8489\n",
            "Epoch 00037: val_loss improved from 0.55325 to 0.54239, saving model to model.h5\n",
            "142/142 [==============================] - 196s 1s/step - loss: 0.4328 - acc: 0.8489 - val_loss: 0.5424 - val_acc: 0.8237\n",
            "Epoch 38/50\n",
            "142/142 [==============================] - ETA: 0s - loss: 0.4448 - acc: 0.8485\n",
            "Epoch 00038: val_loss did not improve from 0.54239\n",
            "142/142 [==============================] - 196s 1s/step - loss: 0.4448 - acc: 0.8485 - val_loss: 0.5787 - val_acc: 0.8043\n",
            "Epoch 39/50\n",
            "142/142 [==============================] - ETA: 0s - loss: 0.4364 - acc: 0.8546\n",
            "Epoch 00039: val_loss did not improve from 0.54239\n",
            "142/142 [==============================] - 194s 1s/step - loss: 0.4364 - acc: 0.8546 - val_loss: 0.5519 - val_acc: 0.8131\n",
            "Epoch 40/50\n",
            "142/142 [==============================] - ETA: 0s - loss: 0.4355 - acc: 0.8421\n",
            "Epoch 00040: val_loss did not improve from 0.54239\n",
            "142/142 [==============================] - 195s 1s/step - loss: 0.4355 - acc: 0.8421 - val_loss: 0.5748 - val_acc: 0.7989\n",
            "Epoch 41/50\n",
            "142/142 [==============================] - ETA: 0s - loss: 0.4205 - acc: 0.8527\n",
            "Epoch 00041: val_loss did not improve from 0.54239\n",
            "142/142 [==============================] - 195s 1s/step - loss: 0.4205 - acc: 0.8527 - val_loss: 0.5647 - val_acc: 0.8060\n",
            "Epoch 42/50\n",
            "142/142 [==============================] - ETA: 0s - loss: 0.4269 - acc: 0.8491\n",
            "Epoch 00042: val_loss did not improve from 0.54239\n",
            "142/142 [==============================] - 195s 1s/step - loss: 0.4269 - acc: 0.8491 - val_loss: 0.5502 - val_acc: 0.8184\n",
            "Epoch 43/50\n",
            "142/142 [==============================] - ETA: 0s - loss: 0.4223 - acc: 0.8597\n",
            "Epoch 00043: val_loss did not improve from 0.54239\n",
            "142/142 [==============================] - 197s 1s/step - loss: 0.4223 - acc: 0.8597 - val_loss: 0.5791 - val_acc: 0.8096\n",
            "Epoch 44/50\n",
            "142/142 [==============================] - ETA: 0s - loss: 0.4149 - acc: 0.8591\n",
            "Epoch 00044: val_loss did not improve from 0.54239\n",
            "142/142 [==============================] - 195s 1s/step - loss: 0.4149 - acc: 0.8591 - val_loss: 0.6019 - val_acc: 0.8087\n",
            "Epoch 45/50\n",
            "142/142 [==============================] - ETA: 0s - loss: 0.4186 - acc: 0.8527\n",
            "Epoch 00045: val_loss did not improve from 0.54239\n",
            "142/142 [==============================] - 195s 1s/step - loss: 0.4186 - acc: 0.8527 - val_loss: 0.5919 - val_acc: 0.7981\n",
            "Epoch 46/50\n",
            "142/142 [==============================] - ETA: 0s - loss: 0.4138 - acc: 0.8564\n",
            "Epoch 00046: val_loss did not improve from 0.54239\n",
            "142/142 [==============================] - 195s 1s/step - loss: 0.4138 - acc: 0.8564 - val_loss: 0.6181 - val_acc: 0.7812\n",
            "Epoch 47/50\n",
            "142/142 [==============================] - ETA: 0s - loss: 0.4320 - acc: 0.8562\n",
            "Epoch 00047: val_loss did not improve from 0.54239\n",
            "142/142 [==============================] - 195s 1s/step - loss: 0.4320 - acc: 0.8562 - val_loss: 0.5887 - val_acc: 0.8078\n",
            "Epoch 48/50\n",
            "142/142 [==============================] - ETA: 0s - loss: 0.4300 - acc: 0.8527\n",
            "Epoch 00048: val_loss did not improve from 0.54239\n",
            "142/142 [==============================] - 195s 1s/step - loss: 0.4300 - acc: 0.8527 - val_loss: 0.5628 - val_acc: 0.8051\n",
            "Epoch 49/50\n",
            "142/142 [==============================] - ETA: 0s - loss: 0.3936 - acc: 0.8615\n",
            "Epoch 00049: val_loss did not improve from 0.54239\n",
            "142/142 [==============================] - 195s 1s/step - loss: 0.3936 - acc: 0.8615 - val_loss: 0.5845 - val_acc: 0.8069\n",
            "Epoch 50/50\n",
            "142/142 [==============================] - ETA: 0s - loss: 0.4119 - acc: 0.8593\n",
            "Epoch 00050: val_loss did not improve from 0.54239\n",
            "142/142 [==============================] - 194s 1s/step - loss: 0.4119 - acc: 0.8593 - val_loss: 0.5915 - val_acc: 0.8087\n"
          ],
          "name": "stdout"
        }
      ]
    },
    {
      "cell_type": "code",
      "metadata": {
        "id": "lHMkhnndhIl9",
        "colab_type": "code",
        "colab": {
          "base_uri": "https://localhost:8080/",
          "height": 894
        },
        "outputId": "9cc0774a-e9d7-4fd3-e7f3-a3a88d4eacea"
      },
      "source": [
        "import matplotlib.pyplot as plt\n",
        "import seaborn as sns\n",
        "\n",
        "history = history.history\n",
        "\n",
        "fig, (ax1, ax2) = plt.subplots(2, 1, sharex='col', figsize=(20, 14))\n",
        "\n",
        "ax1.plot(history['loss'], label='Train loss')\n",
        "ax1.plot(history['val_loss'], label='Validation loss')\n",
        "ax1.legend(loc='best')\n",
        "ax1.set_title('Loss')\n",
        "\n",
        "ax2.plot(history['acc'], label='Train accuracy')\n",
        "ax2.plot(history['val_acc'], label='Validation accuracy')\n",
        "ax2.legend(loc='best')\n",
        "ax2.set_title('Accuracy')\n",
        "\n",
        "plt.xlabel('Epochs')\n",
        "sns.despine()\n",
        "plt.show()"
      ],
      "execution_count": null,
      "outputs": [
        {
          "output_type": "stream",
          "text": [
            "/usr/local/lib/python3.6/dist-packages/statsmodels/tools/_testing.py:19: FutureWarning: pandas.util.testing is deprecated. Use the functions in the public API at pandas.testing instead.\n",
            "  import pandas.util.testing as tm\n"
          ],
          "name": "stderr"
        },
        {
          "output_type": "display_data",
          "data": {
            "image/png": "[encoded data removed]",
            "text/plain": [
              "<Figure size 1440x1008 with 2 Axes>"
            ]
          },
          "metadata": {
            "tags": [],
            "needs_background": "light"
          }
        }
      ]
    },
    {
      "cell_type": "code",
      "metadata": {
        "id": "7NFEsFS-1hrP",
        "colab_type": "code",
        "colab": {}
      },
      "source": [
        "# Reload the best weights from the checkpoint file\n",
        "model.load_weights(checkpoint_filepath)"
      ],
      "execution_count": null,
      "outputs": []
    },
    {
      "cell_type": "markdown",
      "metadata": {
        "id": "SdhAGgtS-j7E",
        "colab_type": "text"
      },
      "source": [
        "# Prepare the test data"
      ]
    },
    {
      "cell_type": "code",
      "metadata": {
        "id": "WIFmzLDo44J6",
        "colab_type": "code",
        "colab": {
          "base_uri": "https://localhost:8080/",
          "height": 34
        },
        "outputId": "f0706ce6-2a4e-434e-b382-48c8bf4fe846"
      },
      "source": [
        "imageDataGenerator = ImageDataGenerator(rescale=1/255.)\n",
        "\n",
        "test_gen = imageDataGenerator.flow_from_directory('/content/test/', target_size=(380, 380),\n",
        "                                                  class_mode=None, batch_size=32, shuffle=False)"
      ],
      "execution_count": null,
      "outputs": [
        {
          "output_type": "stream",
          "text": [
            "Found 3774 images belonging to 1 classes.\n"
          ],
          "name": "stdout"
        }
      ]
    },
    {
      "cell_type": "markdown",
      "metadata": {
        "id": "atnxiqV2-yf6",
        "colab_type": "text"
      },
      "source": [
        "# Make predictions for the test data\n",
        "\n",
        "Note that these predictions are probabilities for each class"
      ]
    },
    {
      "cell_type": "code",
      "metadata": {
        "id": "h_MPahTu5HNB",
        "colab_type": "code",
        "colab": {
          "base_uri": "https://localhost:8080/",
          "height": 34
        },
        "outputId": "df47d4e3-225e-4205-c5dc-79f49c9711d9"
      },
      "source": [
        "predictions = model.predict(test_gen, verbose=1)"
      ],
      "execution_count": null,
      "outputs": [
        {
          "output_type": "stream",
          "text": [
            "118/118 [==============================] - 39s 327ms/step\n"
          ],
          "name": "stdout"
        }
      ]
    },
    {
      "cell_type": "markdown",
      "metadata": {
        "id": "XWd-1ag0_ADI",
        "colab_type": "text"
      },
      "source": [
        "# Prepare Kaggle submission file\n",
        "\n",
        "Use the highest probable class as the submitted Category."
      ]
    },
    {
      "cell_type": "code",
      "metadata": {
        "id": "j_H6Nmgd5jNd",
        "colab_type": "code",
        "colab": {
          "base_uri": "https://localhost:8080/",
          "height": 247
        },
        "outputId": "5570d7fd-aeee-4437-aa37-340314f8236a"
      },
      "source": [
        "import numpy as np\n",
        "import pandas as pd\n",
        "\n",
        "_predicted_classes = [np.argmax(predictions[i]) for i in range(len(predictions))]\n",
        "_class_labels = np.array(['cbb','cbsd','cgm','cmd','healthy'])\n",
        "_predicted_class_labels = _class_labels[_predicted_classes]\n",
        "\n",
        "submission = pd.read_csv('/content/sample_submission_file.csv')\n",
        "print(submission.head())\n",
        "\n",
        "filenames = test_gen.filenames\n",
        "new_ids = []\n",
        "for filename in filenames:\n",
        "  new_ids.append(filename.replace('0/', ''))\n",
        "\n",
        "submission['Category'] = _predicted_class_labels\n",
        "submission['Id'] = new_ids\n",
        "print(submission.head())\n",
        "\n",
        "submission.to_csv('submission.csv', index=False)\n",
        "\n",
        "print(len(submission))"
      ],
      "execution_count": null,
      "outputs": [
        {
          "output_type": "stream",
          "text": [
            "  Category              Id\n",
            "0     cbsd  test-img-0.jpg\n",
            "1      cmd  test-img-1.jpg\n",
            "2      cbb  test-img-2.jpg\n",
            "3      cmd  test-img-3.jpg\n",
            "4     cbsd  test-img-4.jpg\n",
            "  Category                 Id\n",
            "0     cbsd     test-img-0.jpg\n",
            "1     cbsd     test-img-1.jpg\n",
            "2      cmd    test-img-10.jpg\n",
            "3      cmd   test-img-100.jpg\n",
            "4     cbsd  test-img-1000.jpg\n",
            "3774\n"
          ],
          "name": "stdout"
        }
      ]
    },
    {
      "cell_type": "markdown",
      "metadata": {
        "id": "vispSC5H_Pdu",
        "colab_type": "text"
      },
      "source": [
        "# Submit to Kaggle\n",
        "\n",
        "To see the score, login to the competion on Kaggle"
      ]
    },
    {
      "cell_type": "code",
      "metadata": {
        "id": "VRkApcvOTP49",
        "colab_type": "code",
        "colab": {
          "base_uri": "https://localhost:8080/",
          "height": 70
        },
        "outputId": "c45433d6-7e3a-473a-c581-bdc49ba634cb"
      },
      "source": [
        "# submit the file to kaggle\n",
        "!kaggle competitions submit cassava-disease -f submission.csv -m \"Dropout(0.33)\""
      ],
      "execution_count": null,
      "outputs": [
        {
          "output_type": "stream",
          "text": [
            "Warning: Looks like you're using an outdated API Version, please consider updating (server 1.5.6 / client 1.5.4)\n",
            "100% 81.7k/81.7k [00:02<00:00, 31.9kB/s]\n",
            "Successfully submitted to Cassava Disease Classification "
          ],
          "name": "stdout"
        }
      ]
    }
  ]
}